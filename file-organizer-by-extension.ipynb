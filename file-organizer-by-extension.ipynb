{
 "cells": [
  {
   "cell_type": "code",
   "execution_count": 4,
   "id": "29e5caa8",
   "metadata": {},
   "outputs": [],
   "source": [
    "import os\n",
    "import shutil\n",
    "\n",
    "target_folder = r'C:\\Users\\denio\\Downloads'\n",
    "extensions = {item.split('.')[-1] for item in os.listdir(target_folder) if os.path.isfile(os.path.join(target_folder, item))}\n",
    "\n",
    "#creating folders for each extension type\n",
    "for extension in extensions:\n",
    "    if not os.path.exists(os.path.join(target_folder, extension)):\n",
    "        os.mkdir(os.path.join(target_folder, extension))\n",
    "        \n",
    "#moving files\n",
    "for item in os.listdir(target_folder):\n",
    "    if os.path.isfile(os.path.join(target_folder, item)):\n",
    "        file_extension = item.split('.')[-1]\n",
    "        shutil.move(os.path.join(target_folder, item), os.path.join(target_folder, file_extension, item))\n",
    "        \n"
   ]
  },
  {
   "cell_type": "code",
   "execution_count": null,
   "id": "00c777ec",
   "metadata": {},
   "outputs": [],
   "source": []
  }
 ],
 "metadata": {
  "kernelspec": {
   "display_name": "Python 3 (ipykernel)",
   "language": "python",
   "name": "python3"
  },
  "language_info": {
   "codemirror_mode": {
    "name": "ipython",
    "version": 3
   },
   "file_extension": ".py",
   "mimetype": "text/x-python",
   "name": "python",
   "nbconvert_exporter": "python",
   "pygments_lexer": "ipython3",
   "version": "3.9.7"
  }
 },
 "nbformat": 4,
 "nbformat_minor": 5
}
